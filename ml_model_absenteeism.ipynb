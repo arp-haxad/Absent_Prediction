{
 "metadata": {
  "language_info": {
   "codemirror_mode": {
    "name": "ipython",
    "version": 3
   },
   "file_extension": ".py",
   "mimetype": "text/x-python",
   "name": "python",
   "nbconvert_exporter": "python",
   "pygments_lexer": "ipython3",
   "version": "3.8.3-final"
  },
  "orig_nbformat": 2,
  "kernelspec": {
   "name": "python38364bitcondac0efe4a6b30143bc9e1f5d3fddd0e0a6",
   "display_name": "Python 3.8.3 64-bit (conda)"
  }
 },
 "nbformat": 4,
 "nbformat_minor": 2,
 "cells": [
  {
   "cell_type": "code",
   "execution_count": 49,
   "metadata": {},
   "outputs": [],
   "source": [
    "import numpy as numpy\n",
    "import pandas as pandas \n",
    "import matplotlib.pyplot as plt \n",
    "import seaborn as sns \n",
    "sns.set()"
   ]
  },
  {
   "cell_type": "code",
   "execution_count": 50,
   "metadata": {},
   "outputs": [],
   "source": [
    "data_preprsd = pandas.read_csv('Modified_csv.csv')\n"
   ]
  },
  {
   "cell_type": "code",
   "execution_count": 51,
   "metadata": {},
   "outputs": [
    {
     "output_type": "execute_result",
     "data": {
      "text/plain": "     reason_1  reason_2  reason_3  reason_4  Month  Day of week  \\\n0           0         0         0         1      7            1   \n1           0         0         0         0      7            1   \n2           0         0         0         0      7            2   \n3           1         0         0         0      7            3   \n4           0         0         0         0      7            3   \n..        ...       ...       ...       ...    ...          ...   \n695         1         0         0         0      5            2   \n696         1         0         0         0      5            2   \n697         1         0         0         0      5            3   \n698         0         0         0         0      5            3   \n699         0         0         0         1      5            3   \n\n     Transportation Expense  Distance to Work  Age  Daily Work Load Average  \\\n0                       289                36   33                  239.554   \n1                       118                13   50                  239.554   \n2                       179                51   38                  239.554   \n3                       279                 5   39                  239.554   \n4                       289                36   33                  239.554   \n..                      ...               ...  ...                      ...   \n695                     179                22   40                  237.656   \n696                     225                26   28                  237.656   \n697                     330                16   28                  237.656   \n698                     235                16   32                  237.656   \n699                     291                31   40                  237.656   \n\n     Body Mass Index  Education  Children  Pets  Absenteeism Time in Hours  \n0                 30          0         2     1                          4  \n1                 31          0         1     0                          0  \n2                 31          0         0     0                          2  \n3                 24          0         2     0                          4  \n4                 30          0         2     1                          2  \n..               ...        ...       ...   ...                        ...  \n695               22          1         2     0                          8  \n696               24          0         1     2                          3  \n697               25          1         0     0                          8  \n698               25          1         0     0                          2  \n699               25          0         1     1                          2  \n\n[700 rows x 15 columns]",
      "text/html": "<div>\n<style scoped>\n    .dataframe tbody tr th:only-of-type {\n        vertical-align: middle;\n    }\n\n    .dataframe tbody tr th {\n        vertical-align: top;\n    }\n\n    .dataframe thead th {\n        text-align: right;\n    }\n</style>\n<table border=\"1\" class=\"dataframe\">\n  <thead>\n    <tr style=\"text-align: right;\">\n      <th></th>\n      <th>reason_1</th>\n      <th>reason_2</th>\n      <th>reason_3</th>\n      <th>reason_4</th>\n      <th>Month</th>\n      <th>Day of week</th>\n      <th>Transportation Expense</th>\n      <th>Distance to Work</th>\n      <th>Age</th>\n      <th>Daily Work Load Average</th>\n      <th>Body Mass Index</th>\n      <th>Education</th>\n      <th>Children</th>\n      <th>Pets</th>\n      <th>Absenteeism Time in Hours</th>\n    </tr>\n  </thead>\n  <tbody>\n    <tr>\n      <th>0</th>\n      <td>0</td>\n      <td>0</td>\n      <td>0</td>\n      <td>1</td>\n      <td>7</td>\n      <td>1</td>\n      <td>289</td>\n      <td>36</td>\n      <td>33</td>\n      <td>239.554</td>\n      <td>30</td>\n      <td>0</td>\n      <td>2</td>\n      <td>1</td>\n      <td>4</td>\n    </tr>\n    <tr>\n      <th>1</th>\n      <td>0</td>\n      <td>0</td>\n      <td>0</td>\n      <td>0</td>\n      <td>7</td>\n      <td>1</td>\n      <td>118</td>\n      <td>13</td>\n      <td>50</td>\n      <td>239.554</td>\n      <td>31</td>\n      <td>0</td>\n      <td>1</td>\n      <td>0</td>\n      <td>0</td>\n    </tr>\n    <tr>\n      <th>2</th>\n      <td>0</td>\n      <td>0</td>\n      <td>0</td>\n      <td>0</td>\n      <td>7</td>\n      <td>2</td>\n      <td>179</td>\n      <td>51</td>\n      <td>38</td>\n      <td>239.554</td>\n      <td>31</td>\n      <td>0</td>\n      <td>0</td>\n      <td>0</td>\n      <td>2</td>\n    </tr>\n    <tr>\n      <th>3</th>\n      <td>1</td>\n      <td>0</td>\n      <td>0</td>\n      <td>0</td>\n      <td>7</td>\n      <td>3</td>\n      <td>279</td>\n      <td>5</td>\n      <td>39</td>\n      <td>239.554</td>\n      <td>24</td>\n      <td>0</td>\n      <td>2</td>\n      <td>0</td>\n      <td>4</td>\n    </tr>\n    <tr>\n      <th>4</th>\n      <td>0</td>\n      <td>0</td>\n      <td>0</td>\n      <td>0</td>\n      <td>7</td>\n      <td>3</td>\n      <td>289</td>\n      <td>36</td>\n      <td>33</td>\n      <td>239.554</td>\n      <td>30</td>\n      <td>0</td>\n      <td>2</td>\n      <td>1</td>\n      <td>2</td>\n    </tr>\n    <tr>\n      <th>...</th>\n      <td>...</td>\n      <td>...</td>\n      <td>...</td>\n      <td>...</td>\n      <td>...</td>\n      <td>...</td>\n      <td>...</td>\n      <td>...</td>\n      <td>...</td>\n      <td>...</td>\n      <td>...</td>\n      <td>...</td>\n      <td>...</td>\n      <td>...</td>\n      <td>...</td>\n    </tr>\n    <tr>\n      <th>695</th>\n      <td>1</td>\n      <td>0</td>\n      <td>0</td>\n      <td>0</td>\n      <td>5</td>\n      <td>2</td>\n      <td>179</td>\n      <td>22</td>\n      <td>40</td>\n      <td>237.656</td>\n      <td>22</td>\n      <td>1</td>\n      <td>2</td>\n      <td>0</td>\n      <td>8</td>\n    </tr>\n    <tr>\n      <th>696</th>\n      <td>1</td>\n      <td>0</td>\n      <td>0</td>\n      <td>0</td>\n      <td>5</td>\n      <td>2</td>\n      <td>225</td>\n      <td>26</td>\n      <td>28</td>\n      <td>237.656</td>\n      <td>24</td>\n      <td>0</td>\n      <td>1</td>\n      <td>2</td>\n      <td>3</td>\n    </tr>\n    <tr>\n      <th>697</th>\n      <td>1</td>\n      <td>0</td>\n      <td>0</td>\n      <td>0</td>\n      <td>5</td>\n      <td>3</td>\n      <td>330</td>\n      <td>16</td>\n      <td>28</td>\n      <td>237.656</td>\n      <td>25</td>\n      <td>1</td>\n      <td>0</td>\n      <td>0</td>\n      <td>8</td>\n    </tr>\n    <tr>\n      <th>698</th>\n      <td>0</td>\n      <td>0</td>\n      <td>0</td>\n      <td>0</td>\n      <td>5</td>\n      <td>3</td>\n      <td>235</td>\n      <td>16</td>\n      <td>32</td>\n      <td>237.656</td>\n      <td>25</td>\n      <td>1</td>\n      <td>0</td>\n      <td>0</td>\n      <td>2</td>\n    </tr>\n    <tr>\n      <th>699</th>\n      <td>0</td>\n      <td>0</td>\n      <td>0</td>\n      <td>1</td>\n      <td>5</td>\n      <td>3</td>\n      <td>291</td>\n      <td>31</td>\n      <td>40</td>\n      <td>237.656</td>\n      <td>25</td>\n      <td>0</td>\n      <td>1</td>\n      <td>1</td>\n      <td>2</td>\n    </tr>\n  </tbody>\n</table>\n<p>700 rows × 15 columns</p>\n</div>"
     },
     "metadata": {},
     "execution_count": 51
    }
   ],
   "source": [
    "data_preprsd"
   ]
  },
  {
   "cell_type": "code",
   "execution_count": 52,
   "metadata": {},
   "outputs": [],
   "source": [
    "# making copy\n",
    "data_c = data_preprsd.copy()\n"
   ]
  },
  {
   "cell_type": "code",
   "execution_count": 53,
   "metadata": {},
   "outputs": [
    {
     "output_type": "execute_result",
     "data": {
      "text/plain": "3.0"
     },
     "metadata": {},
     "execution_count": 53
    }
   ],
   "source": [
    "data_preprsd['Absenteeism Time in Hours'].median()"
   ]
  },
  {
   "cell_type": "code",
   "execution_count": 54,
   "metadata": {},
   "outputs": [],
   "source": [
    "# generating targets\n",
    "targets = numpy.where(data_preprsd['Absenteeism Time in Hours']>data_preprsd['Absenteeism Time in Hours'].median(),1,0)"
   ]
  },
  {
   "cell_type": "code",
   "execution_count": 55,
   "metadata": {},
   "outputs": [
    {
     "output_type": "execute_result",
     "data": {
      "text/plain": "array([1, 0, 0, 1, 0, 0, 1, 1, 1, 1, 1, 1, 1, 0, 1, 1, 0, 1, 1, 0, 1, 0,\n       1, 1, 1, 1, 0, 1, 1, 0, 1, 1, 1, 1, 0, 0, 1, 1, 1, 1, 0, 1, 1, 1,\n       0, 0, 0, 1, 1, 1, 0, 0, 0, 0, 0, 0, 0, 0, 0, 0, 0, 1, 0, 0, 0, 0,\n       0, 0, 0, 0, 0, 1, 1, 0, 1, 1, 0, 1, 0, 0, 0, 0, 1, 1, 1, 1, 1, 1,\n       0, 1, 0, 1, 0, 1, 0, 0, 1, 0, 0, 1, 0, 1, 0, 1, 1, 1, 0, 0, 0, 1,\n       0, 1, 0, 0, 0, 0, 1, 0, 0, 0, 0, 0, 0, 0, 0, 0, 0, 0, 0, 1, 1, 0,\n       0, 0, 0, 0, 0, 0, 1, 1, 0, 1, 0, 1, 1, 1, 0, 0, 0, 1, 0, 1, 0, 0,\n       1, 0, 1, 0, 1, 1, 1, 1, 0, 1, 1, 1, 1, 1, 1, 1, 1, 0, 1, 1, 0, 1,\n       0, 1, 1, 0, 1, 0, 0, 0, 0, 0, 0, 1, 0, 0, 1, 1, 0, 0, 1, 0, 1, 1,\n       1, 1, 1, 1, 0, 0, 1, 0, 0, 1, 1, 1, 0, 0, 1, 0, 0, 0, 0, 0, 1, 1,\n       1, 1, 1, 1, 1, 1, 1, 1, 1, 1, 0, 1, 1, 0, 0, 0, 1, 1, 1, 1, 1, 1,\n       0, 1, 1, 0, 1, 1, 1, 1, 1, 0, 1, 0, 0, 1, 0, 0, 1, 1, 0, 1, 0, 0,\n       0, 0, 0, 1, 1, 1, 1, 0, 1, 0, 1, 0, 0, 0, 1, 1, 0, 1, 1, 1, 0, 0,\n       0, 1, 1, 1, 1, 1, 1, 0, 0, 1, 0, 1, 0, 1, 0, 1, 0, 0, 0, 0, 0, 1,\n       1, 0, 1, 0, 0, 0, 1, 1, 0, 1, 0, 1, 0, 0, 1, 1, 1, 0, 0, 0, 0, 0,\n       1, 1, 1, 0, 1, 1, 0, 0, 0, 0, 0, 0, 0, 0, 1, 1, 0, 0, 0, 1, 0, 0,\n       1, 1, 1, 0, 0, 1, 1, 1, 0, 0, 1, 1, 1, 1, 1, 0, 0, 0, 0, 0, 0, 0,\n       0, 0, 0, 1, 1, 0, 1, 0, 0, 0, 1, 0, 0, 1, 0, 0, 1, 1, 0, 1, 0, 1,\n       1, 1, 1, 1, 0, 1, 0, 0, 1, 0, 0, 0, 1, 1, 1, 0, 1, 0, 1, 1, 1, 1,\n       1, 0, 1, 1, 1, 1, 0, 1, 0, 1, 0, 1, 0, 0, 0, 0, 1, 0, 1, 0, 0, 1,\n       0, 0, 0, 0, 1, 1, 0, 1, 1, 0, 1, 1, 0, 0, 0, 1, 0, 0, 0, 1, 0, 1,\n       1, 1, 1, 1, 1, 1, 1, 0, 0, 1, 0, 0, 1, 1, 1, 0, 0, 0, 1, 0, 1, 1,\n       1, 1, 1, 1, 1, 1, 1, 0, 1, 0, 0, 0, 0, 0, 0, 0, 1, 0, 1, 0, 0, 1,\n       1, 0, 0, 1, 0, 0, 0, 0, 0, 0, 1, 0, 1, 1, 0, 0, 0, 1, 0, 1, 0, 1,\n       1, 1, 0, 0, 0, 0, 1, 0, 1, 1, 1, 1, 1, 0, 0, 0, 0, 1, 1, 0, 0, 0,\n       1, 0, 0, 1, 0, 1, 0, 0, 0, 0, 0, 1, 0, 1, 1, 1, 0, 0, 0, 1, 1, 1,\n       0, 0, 0, 0, 1, 0, 0, 1, 0, 0, 1, 0, 0, 1, 0, 1, 0, 0, 0, 0, 0, 0,\n       0, 0, 1, 0, 0, 0, 0, 0, 0, 0, 0, 0, 1, 0, 1, 0, 0, 0, 0, 0, 0, 0,\n       0, 0, 0, 0, 0, 0, 1, 0, 0, 0, 0, 0, 0, 1, 1, 0, 0, 0, 1, 0, 0, 1,\n       0, 1, 0, 0, 0, 0, 0, 0, 0, 1, 1, 0, 0, 0, 1, 1, 1, 1, 1, 1, 1, 0,\n       1, 0, 0, 0, 0, 1, 0, 1, 0, 0, 1, 1, 0, 0, 1, 0, 0, 0, 1, 0, 0, 1,\n       1, 1, 0, 0, 0, 0, 0, 0, 0, 0, 1, 1, 1, 1, 0, 1, 0, 0])"
     },
     "metadata": {},
     "execution_count": 55
    }
   ],
   "source": [
    "targets"
   ]
  },
  {
   "cell_type": "code",
   "execution_count": 56,
   "metadata": {},
   "outputs": [
    {
     "output_type": "execute_result",
     "data": {
      "text/plain": "   reason_1  reason_2  reason_3  reason_4  Month  Day of week  \\\n0         0         0         0         1      7            1   \n1         0         0         0         0      7            1   \n2         0         0         0         0      7            2   \n3         1         0         0         0      7            3   \n4         0         0         0         0      7            3   \n\n   Transportation Expense  Distance to Work  Age  Daily Work Load Average  \\\n0                     289                36   33                  239.554   \n1                     118                13   50                  239.554   \n2                     179                51   38                  239.554   \n3                     279                 5   39                  239.554   \n4                     289                36   33                  239.554   \n\n   Body Mass Index  Education  Children  Pets  Absenteeism Time in Hours  \\\n0               30          0         2     1                          4   \n1               31          0         1     0                          0   \n2               31          0         0     0                          2   \n3               24          0         2     0                          4   \n4               30          0         2     1                          2   \n\n   Excessive Absenteeism  \n0                      1  \n1                      0  \n2                      0  \n3                      1  \n4                      0  ",
      "text/html": "<div>\n<style scoped>\n    .dataframe tbody tr th:only-of-type {\n        vertical-align: middle;\n    }\n\n    .dataframe tbody tr th {\n        vertical-align: top;\n    }\n\n    .dataframe thead th {\n        text-align: right;\n    }\n</style>\n<table border=\"1\" class=\"dataframe\">\n  <thead>\n    <tr style=\"text-align: right;\">\n      <th></th>\n      <th>reason_1</th>\n      <th>reason_2</th>\n      <th>reason_3</th>\n      <th>reason_4</th>\n      <th>Month</th>\n      <th>Day of week</th>\n      <th>Transportation Expense</th>\n      <th>Distance to Work</th>\n      <th>Age</th>\n      <th>Daily Work Load Average</th>\n      <th>Body Mass Index</th>\n      <th>Education</th>\n      <th>Children</th>\n      <th>Pets</th>\n      <th>Absenteeism Time in Hours</th>\n      <th>Excessive Absenteeism</th>\n    </tr>\n  </thead>\n  <tbody>\n    <tr>\n      <th>0</th>\n      <td>0</td>\n      <td>0</td>\n      <td>0</td>\n      <td>1</td>\n      <td>7</td>\n      <td>1</td>\n      <td>289</td>\n      <td>36</td>\n      <td>33</td>\n      <td>239.554</td>\n      <td>30</td>\n      <td>0</td>\n      <td>2</td>\n      <td>1</td>\n      <td>4</td>\n      <td>1</td>\n    </tr>\n    <tr>\n      <th>1</th>\n      <td>0</td>\n      <td>0</td>\n      <td>0</td>\n      <td>0</td>\n      <td>7</td>\n      <td>1</td>\n      <td>118</td>\n      <td>13</td>\n      <td>50</td>\n      <td>239.554</td>\n      <td>31</td>\n      <td>0</td>\n      <td>1</td>\n      <td>0</td>\n      <td>0</td>\n      <td>0</td>\n    </tr>\n    <tr>\n      <th>2</th>\n      <td>0</td>\n      <td>0</td>\n      <td>0</td>\n      <td>0</td>\n      <td>7</td>\n      <td>2</td>\n      <td>179</td>\n      <td>51</td>\n      <td>38</td>\n      <td>239.554</td>\n      <td>31</td>\n      <td>0</td>\n      <td>0</td>\n      <td>0</td>\n      <td>2</td>\n      <td>0</td>\n    </tr>\n    <tr>\n      <th>3</th>\n      <td>1</td>\n      <td>0</td>\n      <td>0</td>\n      <td>0</td>\n      <td>7</td>\n      <td>3</td>\n      <td>279</td>\n      <td>5</td>\n      <td>39</td>\n      <td>239.554</td>\n      <td>24</td>\n      <td>0</td>\n      <td>2</td>\n      <td>0</td>\n      <td>4</td>\n      <td>1</td>\n    </tr>\n    <tr>\n      <th>4</th>\n      <td>0</td>\n      <td>0</td>\n      <td>0</td>\n      <td>0</td>\n      <td>7</td>\n      <td>3</td>\n      <td>289</td>\n      <td>36</td>\n      <td>33</td>\n      <td>239.554</td>\n      <td>30</td>\n      <td>0</td>\n      <td>2</td>\n      <td>1</td>\n      <td>2</td>\n      <td>0</td>\n    </tr>\n  </tbody>\n</table>\n</div>"
     },
     "metadata": {},
     "execution_count": 56
    }
   ],
   "source": [
    "data_preprsd['Excessive Absenteeism'] = targets\n",
    "data_preprsd.head()"
   ]
  },
  {
   "cell_type": "code",
   "execution_count": 57,
   "metadata": {},
   "outputs": [
    {
     "output_type": "execute_result",
     "data": {
      "text/plain": "0.45571428571428574"
     },
     "metadata": {},
     "execution_count": 57
    }
   ],
   "source": [
    "targets.sum()/targets.shape[0]\n"
   ]
  },
  {
   "cell_type": "code",
   "execution_count": 58,
   "metadata": {},
   "outputs": [],
   "source": [
    "data_with_targets =  data_preprsd.drop(['Absenteeism Time in Hours','Day of week','Daily Work Load Average','Distance to Work'], axis = 1)"
   ]
  },
  {
   "cell_type": "code",
   "execution_count": 59,
   "metadata": {},
   "outputs": [
    {
     "output_type": "execute_result",
     "data": {
      "text/plain": "   reason_1  reason_2  reason_3  reason_4  Month  Transportation Expense  Age  \\\n0         0         0         0         1      7                     289   33   \n1         0         0         0         0      7                     118   50   \n2         0         0         0         0      7                     179   38   \n3         1         0         0         0      7                     279   39   \n4         0         0         0         0      7                     289   33   \n\n   Body Mass Index  Education  Children  Pets  Excessive Absenteeism  \n0               30          0         2     1                      1  \n1               31          0         1     0                      0  \n2               31          0         0     0                      0  \n3               24          0         2     0                      1  \n4               30          0         2     1                      0  ",
      "text/html": "<div>\n<style scoped>\n    .dataframe tbody tr th:only-of-type {\n        vertical-align: middle;\n    }\n\n    .dataframe tbody tr th {\n        vertical-align: top;\n    }\n\n    .dataframe thead th {\n        text-align: right;\n    }\n</style>\n<table border=\"1\" class=\"dataframe\">\n  <thead>\n    <tr style=\"text-align: right;\">\n      <th></th>\n      <th>reason_1</th>\n      <th>reason_2</th>\n      <th>reason_3</th>\n      <th>reason_4</th>\n      <th>Month</th>\n      <th>Transportation Expense</th>\n      <th>Age</th>\n      <th>Body Mass Index</th>\n      <th>Education</th>\n      <th>Children</th>\n      <th>Pets</th>\n      <th>Excessive Absenteeism</th>\n    </tr>\n  </thead>\n  <tbody>\n    <tr>\n      <th>0</th>\n      <td>0</td>\n      <td>0</td>\n      <td>0</td>\n      <td>1</td>\n      <td>7</td>\n      <td>289</td>\n      <td>33</td>\n      <td>30</td>\n      <td>0</td>\n      <td>2</td>\n      <td>1</td>\n      <td>1</td>\n    </tr>\n    <tr>\n      <th>1</th>\n      <td>0</td>\n      <td>0</td>\n      <td>0</td>\n      <td>0</td>\n      <td>7</td>\n      <td>118</td>\n      <td>50</td>\n      <td>31</td>\n      <td>0</td>\n      <td>1</td>\n      <td>0</td>\n      <td>0</td>\n    </tr>\n    <tr>\n      <th>2</th>\n      <td>0</td>\n      <td>0</td>\n      <td>0</td>\n      <td>0</td>\n      <td>7</td>\n      <td>179</td>\n      <td>38</td>\n      <td>31</td>\n      <td>0</td>\n      <td>0</td>\n      <td>0</td>\n      <td>0</td>\n    </tr>\n    <tr>\n      <th>3</th>\n      <td>1</td>\n      <td>0</td>\n      <td>0</td>\n      <td>0</td>\n      <td>7</td>\n      <td>279</td>\n      <td>39</td>\n      <td>24</td>\n      <td>0</td>\n      <td>2</td>\n      <td>0</td>\n      <td>1</td>\n    </tr>\n    <tr>\n      <th>4</th>\n      <td>0</td>\n      <td>0</td>\n      <td>0</td>\n      <td>0</td>\n      <td>7</td>\n      <td>289</td>\n      <td>33</td>\n      <td>30</td>\n      <td>0</td>\n      <td>2</td>\n      <td>1</td>\n      <td>0</td>\n    </tr>\n  </tbody>\n</table>\n</div>"
     },
     "metadata": {},
     "execution_count": 59
    }
   ],
   "source": [
    "data_with_targets.head()"
   ]
  },
  {
   "cell_type": "code",
   "execution_count": 60,
   "metadata": {},
   "outputs": [
    {
     "output_type": "execute_result",
     "data": {
      "text/plain": "   reason_1  reason_2  reason_3  reason_4  Month  Transportation Expense  Age  \\\n0         0         0         0         1      7                     289   33   \n1         0         0         0         0      7                     118   50   \n2         0         0         0         0      7                     179   38   \n3         1         0         0         0      7                     279   39   \n4         0         0         0         0      7                     289   33   \n\n   Body Mass Index  Education  Children  Pets  \n0               30          0         2     1  \n1               31          0         1     0  \n2               31          0         0     0  \n3               24          0         2     0  \n4               30          0         2     1  ",
      "text/html": "<div>\n<style scoped>\n    .dataframe tbody tr th:only-of-type {\n        vertical-align: middle;\n    }\n\n    .dataframe tbody tr th {\n        vertical-align: top;\n    }\n\n    .dataframe thead th {\n        text-align: right;\n    }\n</style>\n<table border=\"1\" class=\"dataframe\">\n  <thead>\n    <tr style=\"text-align: right;\">\n      <th></th>\n      <th>reason_1</th>\n      <th>reason_2</th>\n      <th>reason_3</th>\n      <th>reason_4</th>\n      <th>Month</th>\n      <th>Transportation Expense</th>\n      <th>Age</th>\n      <th>Body Mass Index</th>\n      <th>Education</th>\n      <th>Children</th>\n      <th>Pets</th>\n    </tr>\n  </thead>\n  <tbody>\n    <tr>\n      <th>0</th>\n      <td>0</td>\n      <td>0</td>\n      <td>0</td>\n      <td>1</td>\n      <td>7</td>\n      <td>289</td>\n      <td>33</td>\n      <td>30</td>\n      <td>0</td>\n      <td>2</td>\n      <td>1</td>\n    </tr>\n    <tr>\n      <th>1</th>\n      <td>0</td>\n      <td>0</td>\n      <td>0</td>\n      <td>0</td>\n      <td>7</td>\n      <td>118</td>\n      <td>50</td>\n      <td>31</td>\n      <td>0</td>\n      <td>1</td>\n      <td>0</td>\n    </tr>\n    <tr>\n      <th>2</th>\n      <td>0</td>\n      <td>0</td>\n      <td>0</td>\n      <td>0</td>\n      <td>7</td>\n      <td>179</td>\n      <td>38</td>\n      <td>31</td>\n      <td>0</td>\n      <td>0</td>\n      <td>0</td>\n    </tr>\n    <tr>\n      <th>3</th>\n      <td>1</td>\n      <td>0</td>\n      <td>0</td>\n      <td>0</td>\n      <td>7</td>\n      <td>279</td>\n      <td>39</td>\n      <td>24</td>\n      <td>0</td>\n      <td>2</td>\n      <td>0</td>\n    </tr>\n    <tr>\n      <th>4</th>\n      <td>0</td>\n      <td>0</td>\n      <td>0</td>\n      <td>0</td>\n      <td>7</td>\n      <td>289</td>\n      <td>33</td>\n      <td>30</td>\n      <td>0</td>\n      <td>2</td>\n      <td>1</td>\n    </tr>\n  </tbody>\n</table>\n</div>"
     },
     "metadata": {},
     "execution_count": 60
    }
   ],
   "source": [
    "## select the inputs for the regressio\n",
    "unscaled_input = data_with_targets.iloc[:,:-1]\n",
    "unscaled_input.head()"
   ]
  },
  {
   "cell_type": "markdown",
   "metadata": {},
   "source": [
    "## satandardizing the data"
   ]
  },
  {
   "cell_type": "code",
   "execution_count": 61,
   "metadata": {},
   "outputs": [],
   "source": [
    "# from sklearn.preprocessing import StandardScaler\n",
    "# scaler_object = StandardScaler()\n",
    "\n"
   ]
  },
  {
   "cell_type": "code",
   "execution_count": 62,
   "metadata": {},
   "outputs": [
    {
     "output_type": "execute_result",
     "data": {
      "text/plain": "'\\n\\nwe are defining our own standard scaler as custom scaler to improve the explaining power of model so that we \\nthe dummy variables wont get scaled on our output (interpretsbility)\\n\\n\\n\\n'"
     },
     "metadata": {},
     "execution_count": 62
    }
   ],
   "source": [
    "'''\n",
    "\n",
    "we are defining our own standard scaler as custom scaler to improve the explaining power of model so that we \n",
    "the dummy variables wont get scaled on our output (interpretsbility)\n",
    "\n",
    "\n",
    "\n",
    "'''\n",
    "\n"
   ]
  },
  {
   "cell_type": "code",
   "execution_count": 63,
   "metadata": {},
   "outputs": [],
   "source": [
    "from sklearn.base import BaseEstimator,TransformerMixin\n",
    "from sklearn.preprocessing import StandardScaler\n",
    "class CustomScaler(BaseEstimator,TransformerMixin):\n",
    "     def __init__(self,columns,copy=True,with_mean = True, with_std = True):\n",
    "        self.scaler = StandardScaler(copy,with_mean,with_std)\n",
    "        self.columns  = columns\n",
    "        self.mean_ = None\n",
    "        self.var_ = None\n",
    "\n",
    "\n",
    "     def fit(self,X,y = None):\n",
    "            self.scaler.fit(X[self.columns],y)\n",
    "            self.mean_ = numpy.mean(X[self.columns])\n",
    "            self.var_ = numpy.var(X[self.columns])\n",
    "            return self \n",
    "\n",
    "     def  transform(self,X,y=None,copy =  None):\n",
    "            init_col_order = X.columns\n",
    "            X_scaled = pandas.DataFrame(self.scaler.transform(X[self.columns]),columns = self.columns)\n",
    "            X_not_scaled = X.loc[:,~X.columns.isin(self.columns)]\n",
    "            return pandas.concat([X_not_scaled,X_scaled],axis = 1)[init_col_order]"
   ]
  },
  {
   "cell_type": "code",
   "execution_count": 64,
   "metadata": {},
   "outputs": [
    {
     "output_type": "execute_result",
     "data": {
      "text/plain": "array(['reason_1', 'reason_2', 'reason_3', 'reason_4', 'Month',\n       'Transportation Expense', 'Age', 'Body Mass Index', 'Education',\n       'Children', 'Pets'], dtype=object)"
     },
     "metadata": {},
     "execution_count": 64
    }
   ],
   "source": [
    "unscaled_input.columns.values"
   ]
  },
  {
   "cell_type": "code",
   "execution_count": 65,
   "metadata": {},
   "outputs": [],
   "source": [
    "# columns_to_scaled = ['Month','Day of week', 'Transportation Expense', 'Distance to Work', 'Age',\n",
    "#        'Daily Work Load Average', 'Body Mass Index', 'Children', 'Pets']"
   ]
  },
  {
   "cell_type": "code",
   "execution_count": 66,
   "metadata": {},
   "outputs": [],
   "source": [
    "columns_to_omit = ['reason_1', 'reason_2', 'reason_3', 'reason_4','Education']"
   ]
  },
  {
   "cell_type": "code",
   "execution_count": 67,
   "metadata": {},
   "outputs": [],
   "source": [
    "columns_to_scaled = [x for x in unscaled_input.columns.values if x not in columns_to_omit ]"
   ]
  },
  {
   "cell_type": "code",
   "execution_count": 68,
   "metadata": {},
   "outputs": [],
   "source": [
    "absenteeism_scaler = CustomScaler(columns_to_scaled)"
   ]
  },
  {
   "cell_type": "code",
   "execution_count": 69,
   "metadata": {},
   "outputs": [
    {
     "output_type": "execute_result",
     "data": {
      "text/plain": "CustomScaler(columns=['Month', 'Transportation Expense', 'Age',\n                      'Body Mass Index', 'Children', 'Pets'],\n             copy=None, with_mean=None, with_std=None)"
     },
     "metadata": {},
     "execution_count": 69
    }
   ],
   "source": [
    "absenteeism_scaler.fit(unscaled_input)"
   ]
  },
  {
   "cell_type": "code",
   "execution_count": 70,
   "metadata": {},
   "outputs": [],
   "source": [
    "# scaler_object.fit(unscaled_input)\n"
   ]
  },
  {
   "cell_type": "code",
   "execution_count": 71,
   "metadata": {},
   "outputs": [],
   "source": [
    "scaled_input = absenteeism_scaler.transform(unscaled_input)"
   ]
  },
  {
   "cell_type": "code",
   "execution_count": 72,
   "metadata": {},
   "outputs": [
    {
     "output_type": "execute_result",
     "data": {
      "text/plain": "     reason_1  reason_2  reason_3  reason_4     Month  Transportation Expense  \\\n0           0         0         0         1  0.182726                1.005844   \n1           0         0         0         0  0.182726               -1.574681   \n2           0         0         0         0  0.182726               -0.654143   \n3           1         0         0         0  0.182726                0.854936   \n4           0         0         0         0  0.182726                1.005844   \n..        ...       ...       ...       ...       ...                     ...   \n695         1         0         0         0 -0.388293               -0.654143   \n696         1         0         0         0 -0.388293                0.040034   \n697         1         0         0         0 -0.388293                1.624567   \n698         0         0         0         0 -0.388293                0.190942   \n699         0         0         0         1 -0.388293                1.036026   \n\n          Age  Body Mass Index  Education  Children      Pets  \n0   -0.536062         0.767431          0  0.880469  0.268487  \n1    2.130803         1.002633          0 -0.019280 -0.589690  \n2    0.248310         1.002633          0 -0.919030 -0.589690  \n3    0.405184        -0.643782          0  0.880469 -0.589690  \n4   -0.536062         0.767431          0  0.880469  0.268487  \n..        ...              ...        ...       ...       ...  \n695  0.562059        -1.114186          1  0.880469 -0.589690  \n696 -1.320435        -0.643782          0 -0.019280  1.126663  \n697 -1.320435        -0.408580          1 -0.919030 -0.589690  \n698 -0.692937        -0.408580          1 -0.919030 -0.589690  \n699  0.562059        -0.408580          0 -0.019280  0.268487  \n\n[700 rows x 11 columns]",
      "text/html": "<div>\n<style scoped>\n    .dataframe tbody tr th:only-of-type {\n        vertical-align: middle;\n    }\n\n    .dataframe tbody tr th {\n        vertical-align: top;\n    }\n\n    .dataframe thead th {\n        text-align: right;\n    }\n</style>\n<table border=\"1\" class=\"dataframe\">\n  <thead>\n    <tr style=\"text-align: right;\">\n      <th></th>\n      <th>reason_1</th>\n      <th>reason_2</th>\n      <th>reason_3</th>\n      <th>reason_4</th>\n      <th>Month</th>\n      <th>Transportation Expense</th>\n      <th>Age</th>\n      <th>Body Mass Index</th>\n      <th>Education</th>\n      <th>Children</th>\n      <th>Pets</th>\n    </tr>\n  </thead>\n  <tbody>\n    <tr>\n      <th>0</th>\n      <td>0</td>\n      <td>0</td>\n      <td>0</td>\n      <td>1</td>\n      <td>0.182726</td>\n      <td>1.005844</td>\n      <td>-0.536062</td>\n      <td>0.767431</td>\n      <td>0</td>\n      <td>0.880469</td>\n      <td>0.268487</td>\n    </tr>\n    <tr>\n      <th>1</th>\n      <td>0</td>\n      <td>0</td>\n      <td>0</td>\n      <td>0</td>\n      <td>0.182726</td>\n      <td>-1.574681</td>\n      <td>2.130803</td>\n      <td>1.002633</td>\n      <td>0</td>\n      <td>-0.019280</td>\n      <td>-0.589690</td>\n    </tr>\n    <tr>\n      <th>2</th>\n      <td>0</td>\n      <td>0</td>\n      <td>0</td>\n      <td>0</td>\n      <td>0.182726</td>\n      <td>-0.654143</td>\n      <td>0.248310</td>\n      <td>1.002633</td>\n      <td>0</td>\n      <td>-0.919030</td>\n      <td>-0.589690</td>\n    </tr>\n    <tr>\n      <th>3</th>\n      <td>1</td>\n      <td>0</td>\n      <td>0</td>\n      <td>0</td>\n      <td>0.182726</td>\n      <td>0.854936</td>\n      <td>0.405184</td>\n      <td>-0.643782</td>\n      <td>0</td>\n      <td>0.880469</td>\n      <td>-0.589690</td>\n    </tr>\n    <tr>\n      <th>4</th>\n      <td>0</td>\n      <td>0</td>\n      <td>0</td>\n      <td>0</td>\n      <td>0.182726</td>\n      <td>1.005844</td>\n      <td>-0.536062</td>\n      <td>0.767431</td>\n      <td>0</td>\n      <td>0.880469</td>\n      <td>0.268487</td>\n    </tr>\n    <tr>\n      <th>...</th>\n      <td>...</td>\n      <td>...</td>\n      <td>...</td>\n      <td>...</td>\n      <td>...</td>\n      <td>...</td>\n      <td>...</td>\n      <td>...</td>\n      <td>...</td>\n      <td>...</td>\n      <td>...</td>\n    </tr>\n    <tr>\n      <th>695</th>\n      <td>1</td>\n      <td>0</td>\n      <td>0</td>\n      <td>0</td>\n      <td>-0.388293</td>\n      <td>-0.654143</td>\n      <td>0.562059</td>\n      <td>-1.114186</td>\n      <td>1</td>\n      <td>0.880469</td>\n      <td>-0.589690</td>\n    </tr>\n    <tr>\n      <th>696</th>\n      <td>1</td>\n      <td>0</td>\n      <td>0</td>\n      <td>0</td>\n      <td>-0.388293</td>\n      <td>0.040034</td>\n      <td>-1.320435</td>\n      <td>-0.643782</td>\n      <td>0</td>\n      <td>-0.019280</td>\n      <td>1.126663</td>\n    </tr>\n    <tr>\n      <th>697</th>\n      <td>1</td>\n      <td>0</td>\n      <td>0</td>\n      <td>0</td>\n      <td>-0.388293</td>\n      <td>1.624567</td>\n      <td>-1.320435</td>\n      <td>-0.408580</td>\n      <td>1</td>\n      <td>-0.919030</td>\n      <td>-0.589690</td>\n    </tr>\n    <tr>\n      <th>698</th>\n      <td>0</td>\n      <td>0</td>\n      <td>0</td>\n      <td>0</td>\n      <td>-0.388293</td>\n      <td>0.190942</td>\n      <td>-0.692937</td>\n      <td>-0.408580</td>\n      <td>1</td>\n      <td>-0.919030</td>\n      <td>-0.589690</td>\n    </tr>\n    <tr>\n      <th>699</th>\n      <td>0</td>\n      <td>0</td>\n      <td>0</td>\n      <td>1</td>\n      <td>-0.388293</td>\n      <td>1.036026</td>\n      <td>0.562059</td>\n      <td>-0.408580</td>\n      <td>0</td>\n      <td>-0.019280</td>\n      <td>0.268487</td>\n    </tr>\n  </tbody>\n</table>\n<p>700 rows × 11 columns</p>\n</div>"
     },
     "metadata": {},
     "execution_count": 72
    }
   ],
   "source": [
    "scaled_input"
   ]
  },
  {
   "cell_type": "markdown",
   "metadata": {},
   "source": [
    "## splitting the data into test and train"
   ]
  },
  {
   "cell_type": "code",
   "execution_count": 73,
   "metadata": {},
   "outputs": [],
   "source": [
    "from sklearn.model_selection import train_test_split\n"
   ]
  },
  {
   "cell_type": "code",
   "execution_count": 74,
   "metadata": {},
   "outputs": [],
   "source": [
    "#train_test_split(scaled_input,targets)"
   ]
  },
  {
   "cell_type": "code",
   "execution_count": 75,
   "metadata": {
    "tags": []
   },
   "outputs": [
    {
     "output_type": "stream",
     "name": "stdout",
     "text": "(560, 11) (140, 11)\n"
    }
   ],
   "source": [
    "x_train,x_test,y_train,y_test = train_test_split(scaled_input,targets,train_size = 0.8,random_state = 20)\n",
    "print(x_train.shape,x_test.shape)"
   ]
  },
  {
   "cell_type": "code",
   "execution_count": 76,
   "metadata": {
    "tags": []
   },
   "outputs": [
    {
     "output_type": "stream",
     "name": "stdout",
     "text": "(560,) (140,)\n"
    }
   ],
   "source": [
    "print(y_train.shape,y_test.shape)"
   ]
  },
  {
   "cell_type": "code",
   "execution_count": 77,
   "metadata": {},
   "outputs": [],
   "source": [
    "## logistic regression using sklearn\n",
    "from sklearn.linear_model import  LogisticRegression\n",
    "reg = LogisticRegression()"
   ]
  },
  {
   "cell_type": "code",
   "execution_count": 78,
   "metadata": {},
   "outputs": [
    {
     "output_type": "execute_result",
     "data": {
      "text/plain": "LogisticRegression()"
     },
     "metadata": {},
     "execution_count": 78
    }
   ],
   "source": [
    "reg.fit(x_train,y_train)\n"
   ]
  },
  {
   "cell_type": "code",
   "execution_count": 79,
   "metadata": {},
   "outputs": [
    {
     "output_type": "execute_result",
     "data": {
      "text/plain": "0.7464285714285714"
     },
     "metadata": {},
     "execution_count": 79
    }
   ],
   "source": [
    "## checking the accuracy\n",
    "reg.score(x_train,y_train)"
   ]
  },
  {
   "cell_type": "code",
   "execution_count": 80,
   "metadata": {},
   "outputs": [],
   "source": [
    "## checking accuracy\n",
    "\n",
    "predicted_output = reg.predict(x_train)\n"
   ]
  },
  {
   "cell_type": "code",
   "execution_count": 81,
   "metadata": {},
   "outputs": [
    {
     "output_type": "execute_result",
     "data": {
      "text/plain": "array([ True,  True, False, False,  True,  True,  True,  True,  True,\n        True, False,  True,  True, False,  True,  True,  True,  True,\n       False,  True, False,  True, False, False,  True,  True,  True,\n       False,  True, False,  True,  True,  True,  True,  True,  True,\n        True, False,  True, False, False, False,  True,  True,  True,\n        True,  True,  True,  True,  True, False,  True,  True,  True,\n        True, False,  True,  True, False, False,  True,  True,  True,\n        True,  True,  True,  True,  True,  True, False,  True,  True,\n        True,  True,  True, False,  True,  True,  True,  True,  True,\n       False,  True,  True,  True,  True, False, False, False,  True,\n        True,  True,  True,  True,  True,  True, False, False,  True,\n        True,  True, False,  True,  True,  True,  True,  True,  True,\n        True,  True,  True,  True, False,  True,  True,  True,  True,\n        True, False,  True, False,  True, False,  True,  True,  True,\n        True,  True,  True,  True, False, False,  True,  True,  True,\n        True, False,  True,  True,  True,  True,  True,  True, False,\n        True, False,  True, False,  True,  True,  True,  True,  True,\n        True, False,  True,  True, False,  True, False,  True,  True,\n        True, False,  True, False,  True, False,  True, False,  True,\n        True,  True,  True,  True,  True,  True,  True,  True,  True,\n        True, False,  True,  True,  True, False,  True,  True,  True,\n        True, False,  True,  True,  True,  True,  True,  True,  True,\n        True,  True,  True,  True,  True, False, False,  True, False,\n       False,  True, False, False, False, False,  True,  True,  True,\n        True, False,  True, False,  True,  True,  True,  True, False,\n        True, False, False,  True,  True,  True,  True,  True, False,\n       False, False,  True, False,  True,  True,  True, False,  True,\n        True,  True,  True,  True,  True,  True, False,  True,  True,\n        True,  True,  True,  True,  True,  True, False,  True,  True,\n        True, False, False,  True,  True,  True,  True,  True,  True,\n       False,  True,  True,  True,  True,  True,  True, False, False,\n       False,  True,  True, False,  True, False,  True, False,  True,\n        True,  True,  True,  True,  True,  True, False,  True, False,\n       False,  True,  True,  True,  True,  True,  True,  True,  True,\n        True,  True,  True, False,  True, False,  True,  True,  True,\n        True,  True,  True,  True,  True, False,  True,  True, False,\n       False, False,  True,  True,  True,  True, False,  True,  True,\n        True,  True,  True, False, False,  True,  True,  True, False,\n        True, False,  True,  True,  True,  True,  True,  True,  True,\n        True,  True,  True, False,  True,  True,  True,  True, False,\n       False,  True,  True, False,  True, False,  True,  True,  True,\n        True,  True,  True,  True,  True,  True,  True, False,  True,\n        True,  True,  True, False,  True,  True,  True, False,  True,\n        True,  True,  True,  True,  True, False,  True, False,  True,\n        True,  True,  True,  True,  True, False,  True,  True,  True,\n        True,  True,  True,  True,  True,  True,  True, False,  True,\n       False,  True,  True,  True,  True,  True,  True,  True, False,\n        True,  True,  True, False,  True,  True, False,  True, False,\n        True,  True,  True,  True,  True, False,  True,  True,  True,\n        True,  True, False,  True,  True,  True,  True,  True, False,\n       False,  True,  True,  True, False, False,  True,  True,  True,\n       False,  True,  True,  True,  True, False,  True,  True,  True,\n        True,  True, False,  True,  True, False, False, False,  True,\n       False,  True,  True,  True,  True,  True,  True,  True,  True,\n        True,  True, False,  True,  True,  True,  True, False,  True,\n        True,  True,  True, False, False, False,  True,  True, False,\n        True, False,  True, False, False,  True, False,  True,  True,\n       False,  True,  True,  True,  True,  True, False,  True,  True,\n       False, False, False,  True, False, False,  True,  True,  True,\n       False,  True,  True,  True,  True,  True,  True,  True,  True,\n        True,  True, False, False,  True,  True,  True,  True,  True,\n        True,  True, False,  True,  True,  True,  True, False,  True,\n        True,  True])"
     },
     "metadata": {},
     "execution_count": 81
    }
   ],
   "source": [
    "predicted_output == y_train"
   ]
  },
  {
   "cell_type": "code",
   "execution_count": 82,
   "metadata": {},
   "outputs": [
    {
     "output_type": "execute_result",
     "data": {
      "text/plain": "0.7464285714285714"
     },
     "metadata": {},
     "execution_count": 82
    }
   ],
   "source": [
    "acc  = numpy.sum(predicted_output == y_train)/predicted_output.shape[0]\n",
    "acc"
   ]
  },
  {
   "cell_type": "markdown",
   "metadata": {},
   "source": [
    "## coff and intercept"
   ]
  },
  {
   "cell_type": "code",
   "execution_count": 83,
   "metadata": {},
   "outputs": [
    {
     "output_type": "execute_result",
     "data": {
      "text/plain": "array([-0.81258831])"
     },
     "metadata": {},
     "execution_count": 83
    }
   ],
   "source": [
    "reg.intercept_"
   ]
  },
  {
   "cell_type": "code",
   "execution_count": 84,
   "metadata": {},
   "outputs": [
    {
     "output_type": "execute_result",
     "data": {
      "text/plain": "array([[ 1.75317707, -0.02276885,  2.51573816, -0.03021215,  0.19268815,\n         0.51251671, -0.07460196,  0.18151168, -0.01484993,  0.28750931,\n        -0.3433442 ]])"
     },
     "metadata": {},
     "execution_count": 84
    }
   ],
   "source": [
    "reg.coef_"
   ]
  },
  {
   "cell_type": "code",
   "execution_count": 85,
   "metadata": {},
   "outputs": [],
   "source": [
    "arr =unscaled_input.columns.values"
   ]
  },
  {
   "cell_type": "code",
   "execution_count": 86,
   "metadata": {},
   "outputs": [
    {
     "output_type": "execute_result",
     "data": {
      "text/plain": "                  Features\n0                 reason_1\n1                 reason_2\n2                 reason_3\n3                 reason_4\n4                    Month\n5   Transportation Expense\n6                      Age\n7          Body Mass Index\n8                Education\n9                 Children\n10                    Pets",
      "text/html": "<div>\n<style scoped>\n    .dataframe tbody tr th:only-of-type {\n        vertical-align: middle;\n    }\n\n    .dataframe tbody tr th {\n        vertical-align: top;\n    }\n\n    .dataframe thead th {\n        text-align: right;\n    }\n</style>\n<table border=\"1\" class=\"dataframe\">\n  <thead>\n    <tr style=\"text-align: right;\">\n      <th></th>\n      <th>Features</th>\n    </tr>\n  </thead>\n  <tbody>\n    <tr>\n      <th>0</th>\n      <td>reason_1</td>\n    </tr>\n    <tr>\n      <th>1</th>\n      <td>reason_2</td>\n    </tr>\n    <tr>\n      <th>2</th>\n      <td>reason_3</td>\n    </tr>\n    <tr>\n      <th>3</th>\n      <td>reason_4</td>\n    </tr>\n    <tr>\n      <th>4</th>\n      <td>Month</td>\n    </tr>\n    <tr>\n      <th>5</th>\n      <td>Transportation Expense</td>\n    </tr>\n    <tr>\n      <th>6</th>\n      <td>Age</td>\n    </tr>\n    <tr>\n      <th>7</th>\n      <td>Body Mass Index</td>\n    </tr>\n    <tr>\n      <th>8</th>\n      <td>Education</td>\n    </tr>\n    <tr>\n      <th>9</th>\n      <td>Children</td>\n    </tr>\n    <tr>\n      <th>10</th>\n      <td>Pets</td>\n    </tr>\n  </tbody>\n</table>\n</div>"
     },
     "metadata": {},
     "execution_count": 86
    }
   ],
   "source": [
    "summary_table = pandas.DataFrame(columns=['Features'],data= arr)\n",
    "summary_table"
   ]
  },
  {
   "cell_type": "code",
   "execution_count": 87,
   "metadata": {},
   "outputs": [],
   "source": [
    "summary_table['coefficients'] = numpy.transpose(reg.coef_)"
   ]
  },
  {
   "cell_type": "code",
   "execution_count": 88,
   "metadata": {},
   "outputs": [
    {
     "output_type": "execute_result",
     "data": {
      "text/plain": "                  Features  coefficients\n0                 reason_1      1.753177\n1                 reason_2     -0.022769\n2                 reason_3      2.515738\n3                 reason_4     -0.030212\n4                    Month      0.192688\n5   Transportation Expense      0.512517\n6                      Age     -0.074602\n7          Body Mass Index      0.181512\n8                Education     -0.014850\n9                 Children      0.287509\n10                    Pets     -0.343344",
      "text/html": "<div>\n<style scoped>\n    .dataframe tbody tr th:only-of-type {\n        vertical-align: middle;\n    }\n\n    .dataframe tbody tr th {\n        vertical-align: top;\n    }\n\n    .dataframe thead th {\n        text-align: right;\n    }\n</style>\n<table border=\"1\" class=\"dataframe\">\n  <thead>\n    <tr style=\"text-align: right;\">\n      <th></th>\n      <th>Features</th>\n      <th>coefficients</th>\n    </tr>\n  </thead>\n  <tbody>\n    <tr>\n      <th>0</th>\n      <td>reason_1</td>\n      <td>1.753177</td>\n    </tr>\n    <tr>\n      <th>1</th>\n      <td>reason_2</td>\n      <td>-0.022769</td>\n    </tr>\n    <tr>\n      <th>2</th>\n      <td>reason_3</td>\n      <td>2.515738</td>\n    </tr>\n    <tr>\n      <th>3</th>\n      <td>reason_4</td>\n      <td>-0.030212</td>\n    </tr>\n    <tr>\n      <th>4</th>\n      <td>Month</td>\n      <td>0.192688</td>\n    </tr>\n    <tr>\n      <th>5</th>\n      <td>Transportation Expense</td>\n      <td>0.512517</td>\n    </tr>\n    <tr>\n      <th>6</th>\n      <td>Age</td>\n      <td>-0.074602</td>\n    </tr>\n    <tr>\n      <th>7</th>\n      <td>Body Mass Index</td>\n      <td>0.181512</td>\n    </tr>\n    <tr>\n      <th>8</th>\n      <td>Education</td>\n      <td>-0.014850</td>\n    </tr>\n    <tr>\n      <th>9</th>\n      <td>Children</td>\n      <td>0.287509</td>\n    </tr>\n    <tr>\n      <th>10</th>\n      <td>Pets</td>\n      <td>-0.343344</td>\n    </tr>\n  </tbody>\n</table>\n</div>"
     },
     "metadata": {},
     "execution_count": 88
    }
   ],
   "source": [
    "summary_table"
   ]
  },
  {
   "cell_type": "code",
   "execution_count": 89,
   "metadata": {},
   "outputs": [
    {
     "output_type": "execute_result",
     "data": {
      "text/plain": "                  Features  coefficients\n0                Intercept     -0.812588\n1                 reason_1      1.753177\n2                 reason_2     -0.022769\n3                 reason_3      2.515738\n4                 reason_4     -0.030212\n5                    Month      0.192688\n6   Transportation Expense      0.512517\n7                      Age     -0.074602\n8          Body Mass Index      0.181512\n9                Education     -0.014850\n10                Children      0.287509\n11                    Pets     -0.343344",
      "text/html": "<div>\n<style scoped>\n    .dataframe tbody tr th:only-of-type {\n        vertical-align: middle;\n    }\n\n    .dataframe tbody tr th {\n        vertical-align: top;\n    }\n\n    .dataframe thead th {\n        text-align: right;\n    }\n</style>\n<table border=\"1\" class=\"dataframe\">\n  <thead>\n    <tr style=\"text-align: right;\">\n      <th></th>\n      <th>Features</th>\n      <th>coefficients</th>\n    </tr>\n  </thead>\n  <tbody>\n    <tr>\n      <th>0</th>\n      <td>Intercept</td>\n      <td>-0.812588</td>\n    </tr>\n    <tr>\n      <th>1</th>\n      <td>reason_1</td>\n      <td>1.753177</td>\n    </tr>\n    <tr>\n      <th>2</th>\n      <td>reason_2</td>\n      <td>-0.022769</td>\n    </tr>\n    <tr>\n      <th>3</th>\n      <td>reason_3</td>\n      <td>2.515738</td>\n    </tr>\n    <tr>\n      <th>4</th>\n      <td>reason_4</td>\n      <td>-0.030212</td>\n    </tr>\n    <tr>\n      <th>5</th>\n      <td>Month</td>\n      <td>0.192688</td>\n    </tr>\n    <tr>\n      <th>6</th>\n      <td>Transportation Expense</td>\n      <td>0.512517</td>\n    </tr>\n    <tr>\n      <th>7</th>\n      <td>Age</td>\n      <td>-0.074602</td>\n    </tr>\n    <tr>\n      <th>8</th>\n      <td>Body Mass Index</td>\n      <td>0.181512</td>\n    </tr>\n    <tr>\n      <th>9</th>\n      <td>Education</td>\n      <td>-0.014850</td>\n    </tr>\n    <tr>\n      <th>10</th>\n      <td>Children</td>\n      <td>0.287509</td>\n    </tr>\n    <tr>\n      <th>11</th>\n      <td>Pets</td>\n      <td>-0.343344</td>\n    </tr>\n  </tbody>\n</table>\n</div>"
     },
     "metadata": {},
     "execution_count": 89
    }
   ],
   "source": [
    "summary_table.index = summary_table.index + 1\n",
    "summary_table.loc[0] = ['Intercept',reg.intercept_[0]]\n",
    "summary_table = summary_table.sort_index()\n",
    "summary_table"
   ]
  },
  {
   "cell_type": "code",
   "execution_count": 90,
   "metadata": {},
   "outputs": [
    {
     "output_type": "execute_result",
     "data": {
      "text/plain": "                  Features  coefficients\n1                 reason_1      1.753177\n2                 reason_2     -0.022769\n3                 reason_3      2.515738\n4                 reason_4     -0.030212\n5                    Month      0.192688\n6   Transportation Expense      0.512517\n7                      Age     -0.074602\n8          Body Mass Index      0.181512\n9                Education     -0.014850\n10                Children      0.287509\n11                    Pets     -0.343344",
      "text/html": "<div>\n<style scoped>\n    .dataframe tbody tr th:only-of-type {\n        vertical-align: middle;\n    }\n\n    .dataframe tbody tr th {\n        vertical-align: top;\n    }\n\n    .dataframe thead th {\n        text-align: right;\n    }\n</style>\n<table border=\"1\" class=\"dataframe\">\n  <thead>\n    <tr style=\"text-align: right;\">\n      <th></th>\n      <th>Features</th>\n      <th>coefficients</th>\n    </tr>\n  </thead>\n  <tbody>\n    <tr>\n      <th>1</th>\n      <td>reason_1</td>\n      <td>1.753177</td>\n    </tr>\n    <tr>\n      <th>2</th>\n      <td>reason_2</td>\n      <td>-0.022769</td>\n    </tr>\n    <tr>\n      <th>3</th>\n      <td>reason_3</td>\n      <td>2.515738</td>\n    </tr>\n    <tr>\n      <th>4</th>\n      <td>reason_4</td>\n      <td>-0.030212</td>\n    </tr>\n    <tr>\n      <th>5</th>\n      <td>Month</td>\n      <td>0.192688</td>\n    </tr>\n    <tr>\n      <th>6</th>\n      <td>Transportation Expense</td>\n      <td>0.512517</td>\n    </tr>\n    <tr>\n      <th>7</th>\n      <td>Age</td>\n      <td>-0.074602</td>\n    </tr>\n    <tr>\n      <th>8</th>\n      <td>Body Mass Index</td>\n      <td>0.181512</td>\n    </tr>\n    <tr>\n      <th>9</th>\n      <td>Education</td>\n      <td>-0.014850</td>\n    </tr>\n    <tr>\n      <th>10</th>\n      <td>Children</td>\n      <td>0.287509</td>\n    </tr>\n    <tr>\n      <th>11</th>\n      <td>Pets</td>\n      <td>-0.343344</td>\n    </tr>\n  </tbody>\n</table>\n</div>"
     },
     "metadata": {},
     "execution_count": 90
    }
   ],
   "source": [
    "summary_table = summary_table.drop([0],axis = 0)\n",
    "summary_table"
   ]
  },
  {
   "cell_type": "code",
   "execution_count": 91,
   "metadata": {},
   "outputs": [],
   "source": [
    "summary_table.index = summary_table.index - 1\n"
   ]
  },
  {
   "cell_type": "code",
   "execution_count": 92,
   "metadata": {},
   "outputs": [
    {
     "output_type": "execute_result",
     "data": {
      "text/plain": "                  Features  coefficients\n0                 reason_1      1.753177\n1                 reason_2     -0.022769\n2                 reason_3      2.515738\n3                 reason_4     -0.030212\n4                    Month      0.192688\n5   Transportation Expense      0.512517\n6                      Age     -0.074602\n7          Body Mass Index      0.181512\n8                Education     -0.014850\n9                 Children      0.287509\n10                    Pets     -0.343344",
      "text/html": "<div>\n<style scoped>\n    .dataframe tbody tr th:only-of-type {\n        vertical-align: middle;\n    }\n\n    .dataframe tbody tr th {\n        vertical-align: top;\n    }\n\n    .dataframe thead th {\n        text-align: right;\n    }\n</style>\n<table border=\"1\" class=\"dataframe\">\n  <thead>\n    <tr style=\"text-align: right;\">\n      <th></th>\n      <th>Features</th>\n      <th>coefficients</th>\n    </tr>\n  </thead>\n  <tbody>\n    <tr>\n      <th>0</th>\n      <td>reason_1</td>\n      <td>1.753177</td>\n    </tr>\n    <tr>\n      <th>1</th>\n      <td>reason_2</td>\n      <td>-0.022769</td>\n    </tr>\n    <tr>\n      <th>2</th>\n      <td>reason_3</td>\n      <td>2.515738</td>\n    </tr>\n    <tr>\n      <th>3</th>\n      <td>reason_4</td>\n      <td>-0.030212</td>\n    </tr>\n    <tr>\n      <th>4</th>\n      <td>Month</td>\n      <td>0.192688</td>\n    </tr>\n    <tr>\n      <th>5</th>\n      <td>Transportation Expense</td>\n      <td>0.512517</td>\n    </tr>\n    <tr>\n      <th>6</th>\n      <td>Age</td>\n      <td>-0.074602</td>\n    </tr>\n    <tr>\n      <th>7</th>\n      <td>Body Mass Index</td>\n      <td>0.181512</td>\n    </tr>\n    <tr>\n      <th>8</th>\n      <td>Education</td>\n      <td>-0.014850</td>\n    </tr>\n    <tr>\n      <th>9</th>\n      <td>Children</td>\n      <td>0.287509</td>\n    </tr>\n    <tr>\n      <th>10</th>\n      <td>Pets</td>\n      <td>-0.343344</td>\n    </tr>\n  </tbody>\n</table>\n</div>"
     },
     "metadata": {},
     "execution_count": 92
    }
   ],
   "source": [
    "summary_table"
   ]
  },
  {
   "cell_type": "code",
   "execution_count": 93,
   "metadata": {},
   "outputs": [],
   "source": [
    "summary_table.to_csv('data.csv',index = False)"
   ]
  },
  {
   "cell_type": "code",
   "execution_count": 94,
   "metadata": {},
   "outputs": [],
   "source": [
    "summary_table['odds_ratio']  = numpy.exp(summary_table.coefficients)"
   ]
  },
  {
   "cell_type": "code",
   "execution_count": 95,
   "metadata": {},
   "outputs": [
    {
     "output_type": "execute_result",
     "data": {
      "text/plain": "                  Features  coefficients  odds_ratio\n0                 reason_1      1.753177    5.772915\n1                 reason_2     -0.022769    0.977488\n2                 reason_3      2.515738   12.375741\n3                 reason_4     -0.030212    0.970240\n4                    Month      0.192688    1.212505\n5   Transportation Expense      0.512517    1.669488\n6                      Age     -0.074602    0.928113\n7          Body Mass Index      0.181512    1.199029\n8                Education     -0.014850    0.985260\n9                 Children      0.287509    1.333103\n10                    Pets     -0.343344    0.709394",
      "text/html": "<div>\n<style scoped>\n    .dataframe tbody tr th:only-of-type {\n        vertical-align: middle;\n    }\n\n    .dataframe tbody tr th {\n        vertical-align: top;\n    }\n\n    .dataframe thead th {\n        text-align: right;\n    }\n</style>\n<table border=\"1\" class=\"dataframe\">\n  <thead>\n    <tr style=\"text-align: right;\">\n      <th></th>\n      <th>Features</th>\n      <th>coefficients</th>\n      <th>odds_ratio</th>\n    </tr>\n  </thead>\n  <tbody>\n    <tr>\n      <th>0</th>\n      <td>reason_1</td>\n      <td>1.753177</td>\n      <td>5.772915</td>\n    </tr>\n    <tr>\n      <th>1</th>\n      <td>reason_2</td>\n      <td>-0.022769</td>\n      <td>0.977488</td>\n    </tr>\n    <tr>\n      <th>2</th>\n      <td>reason_3</td>\n      <td>2.515738</td>\n      <td>12.375741</td>\n    </tr>\n    <tr>\n      <th>3</th>\n      <td>reason_4</td>\n      <td>-0.030212</td>\n      <td>0.970240</td>\n    </tr>\n    <tr>\n      <th>4</th>\n      <td>Month</td>\n      <td>0.192688</td>\n      <td>1.212505</td>\n    </tr>\n    <tr>\n      <th>5</th>\n      <td>Transportation Expense</td>\n      <td>0.512517</td>\n      <td>1.669488</td>\n    </tr>\n    <tr>\n      <th>6</th>\n      <td>Age</td>\n      <td>-0.074602</td>\n      <td>0.928113</td>\n    </tr>\n    <tr>\n      <th>7</th>\n      <td>Body Mass Index</td>\n      <td>0.181512</td>\n      <td>1.199029</td>\n    </tr>\n    <tr>\n      <th>8</th>\n      <td>Education</td>\n      <td>-0.014850</td>\n      <td>0.985260</td>\n    </tr>\n    <tr>\n      <th>9</th>\n      <td>Children</td>\n      <td>0.287509</td>\n      <td>1.333103</td>\n    </tr>\n    <tr>\n      <th>10</th>\n      <td>Pets</td>\n      <td>-0.343344</td>\n      <td>0.709394</td>\n    </tr>\n  </tbody>\n</table>\n</div>"
     },
     "metadata": {},
     "execution_count": 95
    }
   ],
   "source": [
    "summary_table"
   ]
  },
  {
   "cell_type": "code",
   "execution_count": 96,
   "metadata": {},
   "outputs": [
    {
     "output_type": "execute_result",
     "data": {
      "text/plain": "                  Features  coefficients  odds_ratio\n2                 reason_3      2.515738   12.375741\n0                 reason_1      1.753177    5.772915\n5   Transportation Expense      0.512517    1.669488\n9                 Children      0.287509    1.333103\n4                    Month      0.192688    1.212505\n7          Body Mass Index      0.181512    1.199029\n8                Education     -0.014850    0.985260\n1                 reason_2     -0.022769    0.977488\n3                 reason_4     -0.030212    0.970240\n6                      Age     -0.074602    0.928113\n10                    Pets     -0.343344    0.709394",
      "text/html": "<div>\n<style scoped>\n    .dataframe tbody tr th:only-of-type {\n        vertical-align: middle;\n    }\n\n    .dataframe tbody tr th {\n        vertical-align: top;\n    }\n\n    .dataframe thead th {\n        text-align: right;\n    }\n</style>\n<table border=\"1\" class=\"dataframe\">\n  <thead>\n    <tr style=\"text-align: right;\">\n      <th></th>\n      <th>Features</th>\n      <th>coefficients</th>\n      <th>odds_ratio</th>\n    </tr>\n  </thead>\n  <tbody>\n    <tr>\n      <th>2</th>\n      <td>reason_3</td>\n      <td>2.515738</td>\n      <td>12.375741</td>\n    </tr>\n    <tr>\n      <th>0</th>\n      <td>reason_1</td>\n      <td>1.753177</td>\n      <td>5.772915</td>\n    </tr>\n    <tr>\n      <th>5</th>\n      <td>Transportation Expense</td>\n      <td>0.512517</td>\n      <td>1.669488</td>\n    </tr>\n    <tr>\n      <th>9</th>\n      <td>Children</td>\n      <td>0.287509</td>\n      <td>1.333103</td>\n    </tr>\n    <tr>\n      <th>4</th>\n      <td>Month</td>\n      <td>0.192688</td>\n      <td>1.212505</td>\n    </tr>\n    <tr>\n      <th>7</th>\n      <td>Body Mass Index</td>\n      <td>0.181512</td>\n      <td>1.199029</td>\n    </tr>\n    <tr>\n      <th>8</th>\n      <td>Education</td>\n      <td>-0.014850</td>\n      <td>0.985260</td>\n    </tr>\n    <tr>\n      <th>1</th>\n      <td>reason_2</td>\n      <td>-0.022769</td>\n      <td>0.977488</td>\n    </tr>\n    <tr>\n      <th>3</th>\n      <td>reason_4</td>\n      <td>-0.030212</td>\n      <td>0.970240</td>\n    </tr>\n    <tr>\n      <th>6</th>\n      <td>Age</td>\n      <td>-0.074602</td>\n      <td>0.928113</td>\n    </tr>\n    <tr>\n      <th>10</th>\n      <td>Pets</td>\n      <td>-0.343344</td>\n      <td>0.709394</td>\n    </tr>\n  </tbody>\n</table>\n</div>"
     },
     "metadata": {},
     "execution_count": 96
    }
   ],
   "source": [
    "summary_table.sort_values('odds_ratio',ascending=False)"
   ]
  },
  {
   "cell_type": "code",
   "execution_count": 97,
   "metadata": {},
   "outputs": [
    {
     "output_type": "execute_result",
     "data": {
      "text/plain": "     reason_1  reason_2  reason_3  reason_4     Month  Transportation Expense  \\\n0           0         0         0         1  0.182726                1.005844   \n1           0         0         0         0  0.182726               -1.574681   \n2           0         0         0         0  0.182726               -0.654143   \n3           1         0         0         0  0.182726                0.854936   \n4           0         0         0         0  0.182726                1.005844   \n..        ...       ...       ...       ...       ...                     ...   \n695         1         0         0         0 -0.388293               -0.654143   \n696         1         0         0         0 -0.388293                0.040034   \n697         1         0         0         0 -0.388293                1.624567   \n698         0         0         0         0 -0.388293                0.190942   \n699         0         0         0         1 -0.388293                1.036026   \n\n          Age  Body Mass Index  Education  Children      Pets  \n0   -0.536062         0.767431          0  0.880469  0.268487  \n1    2.130803         1.002633          0 -0.019280 -0.589690  \n2    0.248310         1.002633          0 -0.919030 -0.589690  \n3    0.405184        -0.643782          0  0.880469 -0.589690  \n4   -0.536062         0.767431          0  0.880469  0.268487  \n..        ...              ...        ...       ...       ...  \n695  0.562059        -1.114186          1  0.880469 -0.589690  \n696 -1.320435        -0.643782          0 -0.019280  1.126663  \n697 -1.320435        -0.408580          1 -0.919030 -0.589690  \n698 -0.692937        -0.408580          1 -0.919030 -0.589690  \n699  0.562059        -0.408580          0 -0.019280  0.268487  \n\n[700 rows x 11 columns]",
      "text/html": "<div>\n<style scoped>\n    .dataframe tbody tr th:only-of-type {\n        vertical-align: middle;\n    }\n\n    .dataframe tbody tr th {\n        vertical-align: top;\n    }\n\n    .dataframe thead th {\n        text-align: right;\n    }\n</style>\n<table border=\"1\" class=\"dataframe\">\n  <thead>\n    <tr style=\"text-align: right;\">\n      <th></th>\n      <th>reason_1</th>\n      <th>reason_2</th>\n      <th>reason_3</th>\n      <th>reason_4</th>\n      <th>Month</th>\n      <th>Transportation Expense</th>\n      <th>Age</th>\n      <th>Body Mass Index</th>\n      <th>Education</th>\n      <th>Children</th>\n      <th>Pets</th>\n    </tr>\n  </thead>\n  <tbody>\n    <tr>\n      <th>0</th>\n      <td>0</td>\n      <td>0</td>\n      <td>0</td>\n      <td>1</td>\n      <td>0.182726</td>\n      <td>1.005844</td>\n      <td>-0.536062</td>\n      <td>0.767431</td>\n      <td>0</td>\n      <td>0.880469</td>\n      <td>0.268487</td>\n    </tr>\n    <tr>\n      <th>1</th>\n      <td>0</td>\n      <td>0</td>\n      <td>0</td>\n      <td>0</td>\n      <td>0.182726</td>\n      <td>-1.574681</td>\n      <td>2.130803</td>\n      <td>1.002633</td>\n      <td>0</td>\n      <td>-0.019280</td>\n      <td>-0.589690</td>\n    </tr>\n    <tr>\n      <th>2</th>\n      <td>0</td>\n      <td>0</td>\n      <td>0</td>\n      <td>0</td>\n      <td>0.182726</td>\n      <td>-0.654143</td>\n      <td>0.248310</td>\n      <td>1.002633</td>\n      <td>0</td>\n      <td>-0.919030</td>\n      <td>-0.589690</td>\n    </tr>\n    <tr>\n      <th>3</th>\n      <td>1</td>\n      <td>0</td>\n      <td>0</td>\n      <td>0</td>\n      <td>0.182726</td>\n      <td>0.854936</td>\n      <td>0.405184</td>\n      <td>-0.643782</td>\n      <td>0</td>\n      <td>0.880469</td>\n      <td>-0.589690</td>\n    </tr>\n    <tr>\n      <th>4</th>\n      <td>0</td>\n      <td>0</td>\n      <td>0</td>\n      <td>0</td>\n      <td>0.182726</td>\n      <td>1.005844</td>\n      <td>-0.536062</td>\n      <td>0.767431</td>\n      <td>0</td>\n      <td>0.880469</td>\n      <td>0.268487</td>\n    </tr>\n    <tr>\n      <th>...</th>\n      <td>...</td>\n      <td>...</td>\n      <td>...</td>\n      <td>...</td>\n      <td>...</td>\n      <td>...</td>\n      <td>...</td>\n      <td>...</td>\n      <td>...</td>\n      <td>...</td>\n      <td>...</td>\n    </tr>\n    <tr>\n      <th>695</th>\n      <td>1</td>\n      <td>0</td>\n      <td>0</td>\n      <td>0</td>\n      <td>-0.388293</td>\n      <td>-0.654143</td>\n      <td>0.562059</td>\n      <td>-1.114186</td>\n      <td>1</td>\n      <td>0.880469</td>\n      <td>-0.589690</td>\n    </tr>\n    <tr>\n      <th>696</th>\n      <td>1</td>\n      <td>0</td>\n      <td>0</td>\n      <td>0</td>\n      <td>-0.388293</td>\n      <td>0.040034</td>\n      <td>-1.320435</td>\n      <td>-0.643782</td>\n      <td>0</td>\n      <td>-0.019280</td>\n      <td>1.126663</td>\n    </tr>\n    <tr>\n      <th>697</th>\n      <td>1</td>\n      <td>0</td>\n      <td>0</td>\n      <td>0</td>\n      <td>-0.388293</td>\n      <td>1.624567</td>\n      <td>-1.320435</td>\n      <td>-0.408580</td>\n      <td>1</td>\n      <td>-0.919030</td>\n      <td>-0.589690</td>\n    </tr>\n    <tr>\n      <th>698</th>\n      <td>0</td>\n      <td>0</td>\n      <td>0</td>\n      <td>0</td>\n      <td>-0.388293</td>\n      <td>0.190942</td>\n      <td>-0.692937</td>\n      <td>-0.408580</td>\n      <td>1</td>\n      <td>-0.919030</td>\n      <td>-0.589690</td>\n    </tr>\n    <tr>\n      <th>699</th>\n      <td>0</td>\n      <td>0</td>\n      <td>0</td>\n      <td>1</td>\n      <td>-0.388293</td>\n      <td>1.036026</td>\n      <td>0.562059</td>\n      <td>-0.408580</td>\n      <td>0</td>\n      <td>-0.019280</td>\n      <td>0.268487</td>\n    </tr>\n  </tbody>\n</table>\n<p>700 rows × 11 columns</p>\n</div>"
     },
     "metadata": {},
     "execution_count": 97
    }
   ],
   "source": [
    "scaled_input"
   ]
  },
  {
   "cell_type": "code",
   "execution_count": 98,
   "metadata": {},
   "outputs": [],
   "source": [
    "# from sklearn.base import BaseEstimator,TransformerMixin\n",
    "# from sklearn.preprocessing import StandardScaler\n",
    "# class CustomScaler(BaseEstimator,TransformerMixin):\n",
    "#     def __init__(self,columns,copy=True,with_mean = True, with_std = True):\n",
    "#         self.scaler = StandardScaler(copy,with_mean,with_std)\n",
    "#         self.columns  = columns\n",
    "#         self.mean_ = None\n",
    "#         self.var_ = None\n",
    "\n",
    "\n",
    "#         def fit(self,X,y = None):\n",
    "#             self.scaler.fit(X[self.columns],y)\n",
    "#             self.mean_ = np.mean(x[self.columns])\n",
    "#             self.var_ = np.var(X[self.columns])\n",
    "#             return self \n",
    "\n",
    "#         def  transform(self,X,y=None,copy =  None):\n",
    "#             init_col_order = X.columns\n",
    "#             X_scaled = pd.DataFrame(self.scaler.transform(X[self.columns]),columns = self.columns)\n",
    "#             X_not_scaled = X.loc[:,-columns.isin(self.columns)]\n",
    "#             return pd.concat([X_not_scaled,X_scaled],axis = 1)[init_col_order]"
   ]
  },
  {
   "cell_type": "markdown",
   "metadata": {},
   "source": [
    "## testing the model"
   ]
  },
  {
   "cell_type": "code",
   "execution_count": 99,
   "metadata": {},
   "outputs": [
    {
     "output_type": "execute_result",
     "data": {
      "text/plain": "0.7214285714285714"
     },
     "metadata": {},
     "execution_count": 99
    }
   ],
   "source": [
    "reg.score(x_test,y_test)"
   ]
  },
  {
   "cell_type": "code",
   "execution_count": 102,
   "metadata": {},
   "outputs": [],
   "source": [
    "predict_proba = reg.predict_proba(x_test)"
   ]
  },
  {
   "cell_type": "code",
   "execution_count": 103,
   "metadata": {},
   "outputs": [
    {
     "output_type": "execute_result",
     "data": {
      "text/plain": "array([[0.6944678 , 0.3055322 ],\n       [0.59396986, 0.40603014],\n       [0.47226761, 0.52773239],\n       [0.77923359, 0.22076641],\n       [0.41771584, 0.58228416],\n       [0.37234179, 0.62765821],\n       [0.36585955, 0.63414045],\n       [0.11572913, 0.88427087],\n       [0.82169636, 0.17830364],\n       [0.73320329, 0.26679671],\n       [0.11417158, 0.88582842],\n       [0.03195029, 0.96804971],\n       [0.06399282, 0.93600718],\n       [0.16891025, 0.83108975],\n       [0.75722997, 0.24277003],\n       [0.54792363, 0.45207637],\n       [0.67743068, 0.32256932],\n       [0.13838566, 0.86161434],\n       [0.37622651, 0.62377349],\n       [0.0536977 , 0.9463023 ],\n       [0.72061758, 0.27938242],\n       [0.77923359, 0.22076641],\n       [0.40754233, 0.59245767],\n       [0.40754233, 0.59245767],\n       [0.23449339, 0.76550661],\n       [0.7777861 , 0.2222139 ],\n       [0.50766983, 0.49233017],\n       [0.79157336, 0.20842664],\n       [0.15124627, 0.84875373],\n       [0.77923359, 0.22076641],\n       [0.12504579, 0.87495421],\n       [0.40962037, 0.59037963],\n       [0.34700907, 0.65299093],\n       [0.10350715, 0.89649285],\n       [0.77923359, 0.22076641],\n       [0.08955765, 0.91044235],\n       [0.81349301, 0.18650699],\n       [0.77181909, 0.22818091],\n       [0.62537811, 0.37462189],\n       [0.41771584, 0.58228416],\n       [0.78855213, 0.21144787],\n       [0.50534314, 0.49465686],\n       [0.79622086, 0.20377914],\n       [0.41771584, 0.58228416],\n       [0.22209819, 0.77790181],\n       [0.860465  , 0.139535  ],\n       [0.3442087 , 0.6557913 ],\n       [0.68801993, 0.31198007],\n       [0.75392448, 0.24607552],\n       [0.79757952, 0.20242048],\n       [0.35806218, 0.64193782],\n       [0.44447297, 0.55552703],\n       [0.37234179, 0.62765821],\n       [0.68773845, 0.31226155],\n       [0.19734238, 0.80265762],\n       [0.55975315, 0.44024685],\n       [0.15203423, 0.84796577],\n       [0.76742164, 0.23257836],\n       [0.49219391, 0.50780609],\n       [0.47845303, 0.52154697],\n       [0.29638973, 0.70361027],\n       [0.38528648, 0.61471352],\n       [0.68535596, 0.31464404],\n       [0.74222318, 0.25777682],\n       [0.81430479, 0.18569521],\n       [0.71113591, 0.28886409],\n       [0.78498323, 0.21501677],\n       [0.80886569, 0.19113431],\n       [0.19367638, 0.80632362],\n       [0.14022435, 0.85977565],\n       [0.81349301, 0.18650699],\n       [0.48594895, 0.51405105],\n       [0.12461366, 0.87538634],\n       [0.55160438, 0.44839562],\n       [0.47422686, 0.52577314],\n       [0.77923359, 0.22076641],\n       [0.7223045 , 0.2776955 ],\n       [0.29197244, 0.70802756],\n       [0.24901912, 0.75098088],\n       [0.70317863, 0.29682137],\n       [0.78714905, 0.21285095],\n       [0.79648662, 0.20351338],\n       [0.76742164, 0.23257836],\n       [0.30881823, 0.69118177],\n       [0.58959408, 0.41040592],\n       [0.8255617 , 0.1744383 ],\n       [0.32251428, 0.67748572],\n       [0.40754233, 0.59245767],\n       [0.5732625 , 0.4267375 ],\n       [0.40962037, 0.59037963],\n       [0.76694111, 0.23305889],\n       [0.81593882, 0.18406118],\n       [0.76962435, 0.23037565],\n       [0.71113591, 0.28886409],\n       [0.73320329, 0.26679671],\n       [0.18206221, 0.81793779],\n       [0.6826715 , 0.3173285 ],\n       [0.25261583, 0.74738417],\n       [0.72204146, 0.27795854],\n       [0.70914697, 0.29085303],\n       [0.44689783, 0.55310217],\n       [0.40962037, 0.59037963],\n       [0.30390339, 0.69609661],\n       [0.2423899 , 0.7576101 ],\n       [0.56516954, 0.43483046],\n       [0.53179169, 0.46820831],\n       [0.70601444, 0.29398556],\n       [0.18206221, 0.81793779],\n       [0.21872351, 0.78127649],\n       [0.82839542, 0.17160458],\n       [0.81374151, 0.18625849],\n       [0.15167419, 0.84832581],\n       [0.24772866, 0.75227134],\n       [0.67596498, 0.32403502],\n       [0.57001606, 0.42998394],\n       [0.47953956, 0.52046044],\n       [0.16421251, 0.83578749],\n       [0.22865249, 0.77134751],\n       [0.44431807, 0.55568193],\n       [0.71559698, 0.28440302],\n       [0.7223045 , 0.2776955 ],\n       [0.76303515, 0.23696485],\n       [0.23677619, 0.76322381],\n       [0.50534314, 0.49465686],\n       [0.77923359, 0.22076641],\n       [0.60521404, 0.39478596],\n       [0.78855213, 0.21144787],\n       [0.87646783, 0.12353217],\n       [0.27641822, 0.72358178],\n       [0.72061758, 0.27938242],\n       [0.41169581, 0.58830419],\n       [0.78855213, 0.21144787],\n       [0.6826715 , 0.3173285 ],\n       [0.61240921, 0.38759079],\n       [0.71981407, 0.28018593],\n       [0.09414581, 0.90585419],\n       [0.66529362, 0.33470638],\n       [0.65640085, 0.34359915],\n       [0.72204146, 0.27795854],\n       [0.55160438, 0.44839562]])"
     },
     "metadata": {},
     "execution_count": 103
    }
   ],
   "source": [
    "predict_proba"
   ]
  },
  {
   "cell_type": "code",
   "execution_count": 104,
   "metadata": {},
   "outputs": [
    {
     "output_type": "execute_result",
     "data": {
      "text/plain": "array([0.3055322 , 0.40603014, 0.52773239, 0.22076641, 0.58228416,\n       0.62765821, 0.63414045, 0.88427087, 0.17830364, 0.26679671,\n       0.88582842, 0.96804971, 0.93600718, 0.83108975, 0.24277003,\n       0.45207637, 0.32256932, 0.86161434, 0.62377349, 0.9463023 ,\n       0.27938242, 0.22076641, 0.59245767, 0.59245767, 0.76550661,\n       0.2222139 , 0.49233017, 0.20842664, 0.84875373, 0.22076641,\n       0.87495421, 0.59037963, 0.65299093, 0.89649285, 0.22076641,\n       0.91044235, 0.18650699, 0.22818091, 0.37462189, 0.58228416,\n       0.21144787, 0.49465686, 0.20377914, 0.58228416, 0.77790181,\n       0.139535  , 0.6557913 , 0.31198007, 0.24607552, 0.20242048,\n       0.64193782, 0.55552703, 0.62765821, 0.31226155, 0.80265762,\n       0.44024685, 0.84796577, 0.23257836, 0.50780609, 0.52154697,\n       0.70361027, 0.61471352, 0.31464404, 0.25777682, 0.18569521,\n       0.28886409, 0.21501677, 0.19113431, 0.80632362, 0.85977565,\n       0.18650699, 0.51405105, 0.87538634, 0.44839562, 0.52577314,\n       0.22076641, 0.2776955 , 0.70802756, 0.75098088, 0.29682137,\n       0.21285095, 0.20351338, 0.23257836, 0.69118177, 0.41040592,\n       0.1744383 , 0.67748572, 0.59245767, 0.4267375 , 0.59037963,\n       0.23305889, 0.18406118, 0.23037565, 0.28886409, 0.26679671,\n       0.81793779, 0.3173285 , 0.74738417, 0.27795854, 0.29085303,\n       0.55310217, 0.59037963, 0.69609661, 0.7576101 , 0.43483046,\n       0.46820831, 0.29398556, 0.81793779, 0.78127649, 0.17160458,\n       0.18625849, 0.84832581, 0.75227134, 0.32403502, 0.42998394,\n       0.52046044, 0.83578749, 0.77134751, 0.55568193, 0.28440302,\n       0.2776955 , 0.23696485, 0.76322381, 0.49465686, 0.22076641,\n       0.39478596, 0.21144787, 0.12353217, 0.72358178, 0.27938242,\n       0.58830419, 0.21144787, 0.3173285 , 0.38759079, 0.28018593,\n       0.90585419, 0.33470638, 0.34359915, 0.27795854, 0.44839562])"
     },
     "metadata": {},
     "execution_count": 104
    }
   ],
   "source": [
    "predict_proba[:,1]"
   ]
  },
  {
   "cell_type": "markdown",
   "metadata": {},
   "source": [
    "## pickling or saving reg variable"
   ]
  },
  {
   "cell_type": "code",
   "execution_count": 106,
   "metadata": {},
   "outputs": [],
   "source": [
    "import pickle"
   ]
  },
  {
   "cell_type": "code",
   "execution_count": 107,
   "metadata": {},
   "outputs": [],
   "source": [
    "with open('model','wb') as file:\n",
    "    pickle.dump(reg,file)\n"
   ]
  },
  {
   "cell_type": "code",
   "execution_count": 109,
   "metadata": {},
   "outputs": [],
   "source": [
    "with open('scaler','wb') as file:\n",
    "    pickle.dump(absenteeism_scaler,file)"
   ]
  },
  {
   "cell_type": "code",
   "execution_count": null,
   "metadata": {},
   "outputs": [],
   "source": []
  }
 ]
}